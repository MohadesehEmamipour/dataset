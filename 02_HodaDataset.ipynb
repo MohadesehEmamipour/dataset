{
 "cells": [
  {
   "cell_type": "code",
   "execution_count": 7,
   "id": "little-edwards",
   "metadata": {},
   "outputs": [],
   "source": [
    "import numpy as np\n",
    "from scipy import io\n",
    "import matplotlib.pyplot as plt\n",
    "from skimage.transform import resize "
   ]
  },
  {
   "cell_type": "code",
   "execution_count": 8,
   "id": "compliant-conversation",
   "metadata": {},
   "outputs": [],
   "source": [
    "dataset=io.loadmat('Documents/u tech/SRU-deeplearning-workshop-master/dataset/data_hoda_full.mat')"
   ]
  },
  {
   "cell_type": "code",
   "execution_count": 11,
   "id": "greatest-owner",
   "metadata": {},
   "outputs": [],
   "source": [
    "x_train_original=np.squeeze(dataset['Data'][:1000])\n",
    "y_train=np.squeeze(dataset['labels'][:1000])\n",
    "x_test_original=np.squeeze(dataset['Data'][1000:1200])\n",
    "y_test=np.squeeze(dataset['labels'][1000:1200])"
   ]
  },
  {
   "cell_type": "code",
   "execution_count": 12,
   "id": "loving-truck",
   "metadata": {},
   "outputs": [
    {
     "data": {
      "image/png": "[encoded data removed]",
      "text/plain": [
       "<Figure size 432x288 with 1 Axes>"
      ]
     },
     "metadata": {
      "needs_background": "light"
     },
     "output_type": "display_data"
    }
   ],
   "source": [
    "plt.imshow(x_train_original[999],cmap='gray')\n",
    "plt.show()"
   ]
  },
  {
   "cell_type": "code",
   "execution_count": 13,
   "id": "personal-expansion",
   "metadata": {},
   "outputs": [
    {
     "data": {
      "image/png": "[encoded data removed]",
      "text/plain": [
       "<Figure size 432x288 with 1 Axes>"
      ]
     },
     "metadata": {
      "needs_background": "light"
     },
     "output_type": "display_data"
    }
   ],
   "source": [
    "plt.imshow(x_train_original[999])\n",
    "plt.show()"
   ]
  },
  {
   "cell_type": "code",
   "execution_count": 14,
   "id": "damaged-contest",
   "metadata": {},
   "outputs": [
    {
     "data": {
      "image/png": "[encoded data removed]",
      "text/plain": [
       "<Figure size 432x288 with 1 Axes>"
      ]
     },
     "metadata": {
      "needs_background": "light"
     },
     "output_type": "display_data"
    }
   ],
   "source": [
    "plt.imshow(x_train_original[100])\n",
    "plt.show()"
   ]
  },
  {
   "cell_type": "code",
   "execution_count": 17,
   "id": "religious-advice",
   "metadata": {},
   "outputs": [
    {
     "data": {
      "image/png": "[encoded data removed]",
      "text/plain": [
       "<Figure size 432x288 with 1 Axes>"
      ]
     },
     "metadata": {
      "needs_background": "light"
     },
     "output_type": "display_data"
    }
   ],
   "source": [
    "plt.imshow(x_train_original[10])\n",
    "plt.show()"
   ]
  },
  {
   "cell_type": "code",
   "execution_count": 30,
   "id": "egyptian-fashion",
   "metadata": {},
   "outputs": [
    {
     "data": {
      "image/png": "[encoded data removed]",
      "text/plain": [
       "<Figure size 432x288 with 1 Axes>"
      ]
     },
     "metadata": {
      "needs_background": "light"
     },
     "output_type": "display_data"
    },
    {
     "name": "stdout",
     "output_type": "stream",
     "text": [
      "label 70 th image is : 8\n"
     ]
    }
   ],
   "source": [
    "i=70\n",
    "image=x_train_original[i]\n",
    "label=y_train[i]\n",
    "plt.imshow(image,cmap='gray')\n",
    "plt.show()\n",
    "print('label {} th image is : {}'.format(i,label))"
   ]
  },
  {
   "cell_type": "code",
   "execution_count": 32,
   "id": "positive-humanity",
   "metadata": {},
   "outputs": [],
   "source": [
    "x_train_5by5=[resize(img,(5,5)) for img in x_test_original]\n",
    "x_test_5by5=[resize(img,(5,5)) for img in x_test_original]"
   ]
  },
  {
   "cell_type": "code",
   "execution_count": 33,
   "id": "referenced-seminar",
   "metadata": {},
   "outputs": [
    {
     "data": {
      "image/png": "[encoded data removed]",
      "text/plain": [
       "<Figure size 432x288 with 1 Axes>"
      ]
     },
     "metadata": {
      "needs_background": "light"
     },
     "output_type": "display_data"
    }
   ],
   "source": [
    "image=x_train_5by5[1]\n",
    "plt.imshow(image,cmap='gray')\n",
    "plt.show()"
   ]
  },
  {
   "cell_type": "code",
   "execution_count": 34,
   "id": "extensive-liechtenstein",
   "metadata": {},
   "outputs": [],
   "source": [
    "x_train=[x.reshape(25) for x in x_train_5by5]\n",
    "x_test=[x.reshape(25) for x in x_test_5by5]"
   ]
  },
  {
   "cell_type": "code",
   "execution_count": 38,
   "id": "departmental-sight",
   "metadata": {},
   "outputs": [
    {
     "data": {
      "text/plain": [
       "(25,)"
      ]
     },
     "execution_count": 38,
     "metadata": {},
     "output_type": "execute_result"
    }
   ],
   "source": [
    "x_train[0].shape"
   ]
  },
  {
   "cell_type": "code",
   "execution_count": null,
   "id": "sporting-strip",
   "metadata": {},
   "outputs": [],
   "source": []
  }
 ],
 "metadata": {
  "kernelspec": {
   "display_name": "Python 3",
   "language": "python",
   "name": "python3"
  },
  "language_info": {
   "codemirror_mode": {
    "name": "ipython",
    "version": 3
   },
   "file_extension": ".py",
   "mimetype": "text/x-python",
   "name": "python",
   "nbconvert_exporter": "python",
   "pygments_lexer": "ipython3",
   "version": "3.6.13"
  }
 },
 "nbformat": 4,
 "nbformat_minor": 5
}
